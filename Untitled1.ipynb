{
 "cells": [
  {
   "cell_type": "code",
   "execution_count": 2,
   "id": "76d2a4c8-2411-4521-8d0d-3359699f6a26",
   "metadata": {},
   "outputs": [],
   "source": [
    "# Fibonacci Series  from given numbers "
   ]
  },
  {
   "cell_type": "code",
   "execution_count": 3,
   "id": "1367f466-2e0c-4e05-a6cc-e8f2c5692da0",
   "metadata": {},
   "outputs": [
    {
     "name": "stdin",
     "output_type": "stream",
     "text": [
      "Enter the First Number of the Fibonacci Series:  3\n",
      "Enter the Second Number of the Fibonacci Series:  5\n",
      "How many terms you want ?   5\n"
     ]
    },
    {
     "name": "stdout",
     "output_type": "stream",
     "text": [
      "Fibonacci sequence:\n",
      "3\n",
      "5\n",
      "8\n",
      "13\n",
      "21\n"
     ]
    }
   ],
   "source": [
    "# getting NUmbers from USer\n",
    "n1 = int(input(\"Enter the First Number of the Fibonacci Series: \"))\n",
    "n2 = int(input(\"Enter the Second Number of the Fibonacci Series: \"))\n",
    "count = 0\n",
    "nterms = int(input(\"How many terms you want ?  \"))\n",
    "\n",
    "# check if the number of terms is valid\n",
    "if nterms <= 0:\n",
    "    print(\"Please enter a positive integer\")\n",
    "# if there is only one term, return n1\n",
    "elif nterms == 1:\n",
    "    print(\"Fibonacci sequence upto\",nterms,\":\")\n",
    "    print(n1)\n",
    "# generate fibonacci sequence\n",
    "else:\n",
    "    print(\"Fibonacci sequence:\")\n",
    "    while count < nterms:\n",
    "        print(n1)\n",
    "        nth = n1 + n2\n",
    "        n1 = n2\n",
    "        n2 = nth\n",
    "        count += 1"
   ]
  },
  {
   "cell_type": "code",
   "execution_count": 20,
   "id": "3339c43b-0aa6-403f-8bf9-c3e34d2d890d",
   "metadata": {},
   "outputs": [
    {
     "name": "stdin",
     "output_type": "stream",
     "text": [
      "Enter the sentence:   i am the super man\n"
     ]
    },
    {
     "name": "stdout",
     "output_type": "stream",
     "text": [
      "{'a': 2, 'e': 2, 'i': 1, 'o': 0, 'u': 1}\n"
     ]
    }
   ],
   "source": [
    "s = input(\"Enter the sentence: \")\n",
    "lowercase = s.lower()\n",
    "vowel_counts = {}\n",
    "\n",
    "for vowel in \"aeiou\":\n",
    "    count = lowercase.count(vowel)\n",
    "    vowel_counts[vowel] = count\n",
    "print(vowel_counts)"
   ]
  },
  {
   "cell_type": "code",
   "execution_count": null,
   "id": "f7368b01-ea18-4d61-9477-ac40a0cb356c",
   "metadata": {},
   "outputs": [],
   "source": []
  },
  {
   "cell_type": "code",
   "execution_count": 22,
   "id": "4c8cf7c3-2349-46ea-a8b0-d2139952f5ee",
   "metadata": {},
   "outputs": [],
   "source": [
    "from abc import ABCMeta, abstractmethod\n",
    "from math import pi, sqrt\n",
    "\n",
    "class Shape(metaclass=ABCMeta):\n",
    "    @abstractmethod\n",
    "    def area(self):\n",
    "        pass\n",
    "\n",
    "    @abstractmethod\n",
    "    def perimeter(self):\n",
    "        pass\n",
    "\n",
    "\n",
    "class Circle(Shape):\n",
    "    def __init__(self, radius):\n",
    "        self._radius = radius\n",
    "\n",
    "    @property\n",
    "    def radius(self):\n",
    "        return self._radius\n",
    "\n",
    "    @property\n",
    "    def area(self):\n",
    "        return pi * self._radius * self._radius\n",
    "\n",
    "    @property\n",
    "    def perimeter(self):\n",
    "        return 2 * pi * self._radius\n",
    "\n",
    "\n",
    "class Rectangle(Shape):\n",
    "    def __init__(self,height, width):\n",
    "        self._height = height\n",
    "        self._width = width\n",
    "\n",
    "    @property\n",
    "    def height(self):\n",
    "        return self._height\n",
    "\n",
    "    @property\n",
    "    def width(self):\n",
    "        return self._width\n",
    "\n",
    "    @property\n",
    "    def area(self):\n",
    "        return self._width * self._height\n",
    "\n",
    "    @property\n",
    "    def perimeter(self):\n",
    "        return 2 * (self._width + self._height)\n",
    "\n",
    "\n",
    "class Triangle(Shape):\n",
    "    def __init__(self, side_a, side_b, side_c):\n",
    "        self._side_a = side_a\n",
    "        self._side_b = side_b\n",
    "        self._side_c = side_c\n",
    "\n",
    "    #return list contain of three sides\n",
    "    @property\n",
    "    def getsides(self):\n",
    "        return [self._side_a, self._side_b, self._side_c]\n",
    "\n",
    "    # based on Heron Formula\n",
    "    # http://en.wikipedia.org/wiki/Heron's_formula\n",
    "    @property\n",
    "    def area(self):\n",
    "        s = (self._side_a + self._side_b + self._side_c)/2\n",
    "        return sqrt(s * (s - self._side_a) * (s - self._side_b) * (s - self._side_c))\n",
    "\n",
    "    @property\n",
    "    def perimeter(self):\n",
    "        return self._side_a + self._side_b + self._side_c\n"
   ]
  },
  {
   "cell_type": "code",
   "execution_count": 1,
   "id": "9b38f855-280e-493f-a599-1b45d79df2de",
   "metadata": {},
   "outputs": [
    {
     "name": "stdout",
     "output_type": "stream",
     "text": [
      "Backup failed.\n"
     ]
    }
   ],
   "source": [
    "import os, datetime\n",
    "source_dir = '\\IT Vedant' \n",
    "upload_time = datetime.datetime.now().strftime(\"%Y-%m-%d\")\n",
    "target_dir = '\\IT Vedant'\n",
    "if not os.path.exists(target_dir):\n",
    "\tos.makedirs(target_dir)\n",
    "\n",
    "folder = os.path.join(target_dir, upload_time ) # please change it accordingly\n",
    "filename = folder + '.zip'\n",
    "zip_command = \"zip -qr '%s' %s\"\t%(folder,source_dir)\n",
    "\n",
    "# run zip command\n",
    "if os.system(zip_command) == 0:\n",
    "\tprint(\" the file %s is successfully zipped\" %filename)\n",
    "else:\n",
    "\tprint(\"Backup failed.\")\t"
   ]
  },
  {
   "cell_type": "code",
   "execution_count": null,
   "id": "7e243cdb-f71c-4597-9c0c-69c9bc5c011b",
   "metadata": {},
   "outputs": [],
   "source": []
  }
 ],
 "metadata": {
  "kernelspec": {
   "display_name": "Python 3 (ipykernel)",
   "language": "python",
   "name": "python3"
  },
  "language_info": {
   "codemirror_mode": {
    "name": "ipython",
    "version": 3
   },
   "file_extension": ".py",
   "mimetype": "text/x-python",
   "name": "python",
   "nbconvert_exporter": "python",
   "pygments_lexer": "ipython3",
   "version": "3.9.7"
  }
 },
 "nbformat": 4,
 "nbformat_minor": 5
}
